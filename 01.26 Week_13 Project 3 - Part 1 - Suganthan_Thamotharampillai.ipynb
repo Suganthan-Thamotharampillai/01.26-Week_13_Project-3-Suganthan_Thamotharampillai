{
 "cells": [
  {
   "cell_type": "markdown",
   "id": "e6913869",
   "metadata": {},
   "source": [
    "<br><font size=6><b>Project 3 - </b></font><font size=6>Part 1</font>"
   ]
  },
  {
   "cell_type": "markdown",
   "id": "e4aaf12b",
   "metadata": {},
   "source": [
    "<font size=3><ul><li>Suganthan Thamotharampillai\n",
    "<br><li>01.26.2023"
   ]
  },
  {
   "cell_type": "code",
   "execution_count": 1,
   "id": "7843f43b",
   "metadata": {},
   "outputs": [],
   "source": [
    "## IMPORT LIBRARIES\n",
    "import pandas as pd\n",
    "import numpy as np\n",
    "import matplotlib.pyplot as plt\n",
    "import seaborn as sns"
   ]
  },
  {
   "cell_type": "code",
   "execution_count": 2,
   "id": "56e8eaf2",
   "metadata": {},
   "outputs": [],
   "source": [
    "## LOAD DATASET\n",
    "# Urls\n",
    "url_akas=\"https://datasets.imdbws.com/title.akas.tsv.gz\"\n",
    "url_basics=\"https://datasets.imdbws.com/title.basics.tsv.gz\"\n",
    "url_ratings=\"https://datasets.imdbws.com/title.ratings.tsv.gz\"\n",
    "\n",
    "# Dataframes\n",
    "akas = pd.read_csv(url_akas, sep='\\t', low_memory=False)\n",
    "basics = pd.read_csv(url_basics, sep='\\t', low_memory=False)\n",
    "ratings = pd.read_csv(url_ratings, sep='\\t', low_memory=False)"
   ]
  },
  {
   "cell_type": "markdown",
   "id": "37cf5f04",
   "metadata": {},
   "source": [
    "<br><br><font size=5><b>Required Preprocessing - Details"
   ]
  },
  {
   "cell_type": "markdown",
   "id": "dd3c6752",
   "metadata": {},
   "source": [
    "<font size=4><b>Title.AKAs\n",
    "<br><font size=3><b>1. Handling '\\N' Placeholder Values"
   ]
  },
  {
   "cell_type": "code",
   "execution_count": 97,
   "id": "2145102c",
   "metadata": {},
   "outputs": [
    {
     "name": "stdout",
     "output_type": "stream",
     "text": [
      "\n",
      "Number of '\\N' values are 72026563\n"
     ]
    },
    {
     "data": {
      "text/plain": [
       "titleId                   0\n",
       "ordering                  0\n",
       "title                     0\n",
       "region              1873963\n",
       "language            6470829\n",
       "types              29244549\n",
       "attributes         34435113\n",
       "isOriginalTitle        2109\n",
       "dtype: int64"
      ]
     },
     "execution_count": 97,
     "metadata": {},
     "output_type": "execute_result"
    }
   ],
   "source": [
    "# IDENTIFYING '\\N' VALUES\n",
    "print(\"\\nNumber of '\\\\N' values are\", (akas=='\\\\N').sum().sum())\n",
    "(akas=='\\\\N').sum()"
   ]
  },
  {
   "cell_type": "code",
   "execution_count": 99,
   "id": "926ec751",
   "metadata": {},
   "outputs": [
    {
     "name": "stdout",
     "output_type": "stream",
     "text": [
      "\n",
      "Now the number of '\\N' values are 0 \n",
      "And the number of 'np.NaN' values are 72050571 \n",
      "\n",
      "\\N VALUES\n",
      " --------------------------\n",
      "titleId            0\n",
      "ordering           0\n",
      "title              0\n",
      "region             0\n",
      "language           0\n",
      "types              0\n",
      "attributes         0\n",
      "isOriginalTitle    0\n",
      "dtype: int64 \n",
      "\n",
      "NaN VALUES\n",
      " --------------------------\n",
      "titleId                   0\n",
      "ordering                  0\n",
      "title                     5\n",
      "region              1877624\n",
      "language            6480427\n",
      "types              29245708\n",
      "attributes         34444698\n",
      "isOriginalTitle        2109\n",
      "dtype: int64\n"
     ]
    }
   ],
   "source": [
    "# REPLACING '\\N' VALUES\n",
    "akas.replace({'\\\\N':np.nan}, inplace=True)\n",
    "print(\"\\nNow the number of '\\\\N' values are\", (akas=='\\\\N').sum().sum(), \"\\nAnd the number of 'np.NaN' values are\", akas.isna().sum().sum(),'\\n\\n\\\\N VALUES\\n',26*'-')\n",
    "print((akas=='\\\\N').sum(),'\\n\\nNaN VALUES\\n',26*'-')\n",
    "print(akas.isna().sum())"
   ]
  },
  {
   "cell_type": "markdown",
   "id": "3da0d3bb",
   "metadata": {},
   "source": [
    "<br><font size=3><b>2. Keep only US Movies"
   ]
  },
  {
   "cell_type": "code",
   "execution_count": 108,
   "id": "d5b64dff",
   "metadata": {},
   "outputs": [
    {
     "data": {
      "text/html": [
       "<div>\n",
       "<style scoped>\n",
       "    .dataframe tbody tr th:only-of-type {\n",
       "        vertical-align: middle;\n",
       "    }\n",
       "\n",
       "    .dataframe tbody tr th {\n",
       "        vertical-align: top;\n",
       "    }\n",
       "\n",
       "    .dataframe thead th {\n",
       "        text-align: right;\n",
       "    }\n",
       "</style>\n",
       "<table border=\"1\" class=\"dataframe\">\n",
       "  <thead>\n",
       "    <tr style=\"text-align: right;\">\n",
       "      <th></th>\n",
       "      <th>titleId</th>\n",
       "      <th>ordering</th>\n",
       "      <th>title</th>\n",
       "      <th>region</th>\n",
       "      <th>language</th>\n",
       "      <th>types</th>\n",
       "      <th>attributes</th>\n",
       "      <th>isOriginalTitle</th>\n",
       "    </tr>\n",
       "  </thead>\n",
       "  <tbody>\n",
       "    <tr>\n",
       "      <th>5</th>\n",
       "      <td>tt0000001</td>\n",
       "      <td>6</td>\n",
       "      <td>Carmencita</td>\n",
       "      <td>US</td>\n",
       "      <td>NaN</td>\n",
       "      <td>imdbDisplay</td>\n",
       "      <td>NaN</td>\n",
       "      <td>0</td>\n",
       "    </tr>\n",
       "    <tr>\n",
       "      <th>14</th>\n",
       "      <td>tt0000002</td>\n",
       "      <td>7</td>\n",
       "      <td>The Clown and His Dogs</td>\n",
       "      <td>US</td>\n",
       "      <td>NaN</td>\n",
       "      <td>NaN</td>\n",
       "      <td>literal English title</td>\n",
       "      <td>0</td>\n",
       "    </tr>\n",
       "    <tr>\n",
       "      <th>33</th>\n",
       "      <td>tt0000005</td>\n",
       "      <td>10</td>\n",
       "      <td>Blacksmith Scene</td>\n",
       "      <td>US</td>\n",
       "      <td>NaN</td>\n",
       "      <td>imdbDisplay</td>\n",
       "      <td>NaN</td>\n",
       "      <td>0</td>\n",
       "    </tr>\n",
       "    <tr>\n",
       "      <th>36</th>\n",
       "      <td>tt0000005</td>\n",
       "      <td>1</td>\n",
       "      <td>Blacksmithing Scene</td>\n",
       "      <td>US</td>\n",
       "      <td>NaN</td>\n",
       "      <td>alternative</td>\n",
       "      <td>NaN</td>\n",
       "      <td>0</td>\n",
       "    </tr>\n",
       "    <tr>\n",
       "      <th>41</th>\n",
       "      <td>tt0000005</td>\n",
       "      <td>6</td>\n",
       "      <td>Blacksmith Scene #1</td>\n",
       "      <td>US</td>\n",
       "      <td>NaN</td>\n",
       "      <td>alternative</td>\n",
       "      <td>NaN</td>\n",
       "      <td>0</td>\n",
       "    </tr>\n",
       "    <tr>\n",
       "      <th>...</th>\n",
       "      <td>...</td>\n",
       "      <td>...</td>\n",
       "      <td>...</td>\n",
       "      <td>...</td>\n",
       "      <td>...</td>\n",
       "      <td>...</td>\n",
       "      <td>...</td>\n",
       "      <td>...</td>\n",
       "    </tr>\n",
       "    <tr>\n",
       "      <th>34697655</th>\n",
       "      <td>tt9916560</td>\n",
       "      <td>1</td>\n",
       "      <td>March of Dimes Presents: Once Upon a Dime</td>\n",
       "      <td>US</td>\n",
       "      <td>NaN</td>\n",
       "      <td>imdbDisplay</td>\n",
       "      <td>NaN</td>\n",
       "      <td>0</td>\n",
       "    </tr>\n",
       "    <tr>\n",
       "      <th>34697725</th>\n",
       "      <td>tt9916620</td>\n",
       "      <td>1</td>\n",
       "      <td>The Copeland Case</td>\n",
       "      <td>US</td>\n",
       "      <td>NaN</td>\n",
       "      <td>NaN</td>\n",
       "      <td>NaN</td>\n",
       "      <td>0</td>\n",
       "    </tr>\n",
       "    <tr>\n",
       "      <th>34697813</th>\n",
       "      <td>tt9916702</td>\n",
       "      <td>1</td>\n",
       "      <td>Loving London: The Playground</td>\n",
       "      <td>US</td>\n",
       "      <td>NaN</td>\n",
       "      <td>NaN</td>\n",
       "      <td>NaN</td>\n",
       "      <td>0</td>\n",
       "    </tr>\n",
       "    <tr>\n",
       "      <th>34697856</th>\n",
       "      <td>tt9916756</td>\n",
       "      <td>1</td>\n",
       "      <td>Pretty Pretty Black Girl</td>\n",
       "      <td>US</td>\n",
       "      <td>NaN</td>\n",
       "      <td>imdbDisplay</td>\n",
       "      <td>NaN</td>\n",
       "      <td>0</td>\n",
       "    </tr>\n",
       "    <tr>\n",
       "      <th>34697872</th>\n",
       "      <td>tt9916764</td>\n",
       "      <td>1</td>\n",
       "      <td>38</td>\n",
       "      <td>US</td>\n",
       "      <td>NaN</td>\n",
       "      <td>imdbDisplay</td>\n",
       "      <td>NaN</td>\n",
       "      <td>0</td>\n",
       "    </tr>\n",
       "  </tbody>\n",
       "</table>\n",
       "<p>1408757 rows × 8 columns</p>\n",
       "</div>"
      ],
      "text/plain": [
       "            titleId  ordering                                      title  \\\n",
       "5         tt0000001         6                                 Carmencita   \n",
       "14        tt0000002         7                     The Clown and His Dogs   \n",
       "33        tt0000005        10                           Blacksmith Scene   \n",
       "36        tt0000005         1                        Blacksmithing Scene   \n",
       "41        tt0000005         6                        Blacksmith Scene #1   \n",
       "...             ...       ...                                        ...   \n",
       "34697655  tt9916560         1  March of Dimes Presents: Once Upon a Dime   \n",
       "34697725  tt9916620         1                          The Copeland Case   \n",
       "34697813  tt9916702         1              Loving London: The Playground   \n",
       "34697856  tt9916756         1                   Pretty Pretty Black Girl   \n",
       "34697872  tt9916764         1                                         38   \n",
       "\n",
       "         region language        types             attributes isOriginalTitle  \n",
       "5            US      NaN  imdbDisplay                    NaN               0  \n",
       "14           US      NaN          NaN  literal English title               0  \n",
       "33           US      NaN  imdbDisplay                    NaN               0  \n",
       "36           US      NaN  alternative                    NaN               0  \n",
       "41           US      NaN  alternative                    NaN               0  \n",
       "...         ...      ...          ...                    ...             ...  \n",
       "34697655     US      NaN  imdbDisplay                    NaN               0  \n",
       "34697725     US      NaN          NaN                    NaN               0  \n",
       "34697813     US      NaN          NaN                    NaN               0  \n",
       "34697856     US      NaN  imdbDisplay                    NaN               0  \n",
       "34697872     US      NaN  imdbDisplay                    NaN               0  \n",
       "\n",
       "[1408757 rows x 8 columns]"
      ]
     },
     "execution_count": 108,
     "metadata": {},
     "output_type": "execute_result"
    }
   ],
   "source": [
    "# SETTING REGION to 'US'\n",
    "akas = akas[akas['region'] == 'US']\n",
    "akas"
   ]
  },
  {
   "cell_type": "markdown",
   "id": "0de17ff6",
   "metadata": {},
   "source": [
    "<br><font size=4><b>Title.BASICS\n",
    "<br><font size=3><b>1. Handling '\\N' Placeholder Values"
   ]
  },
  {
   "cell_type": "code",
   "execution_count": 207,
   "id": "be5826f2",
   "metadata": {},
   "outputs": [
    {
     "name": "stdout",
     "output_type": "stream",
     "text": [
      "\n",
      "Number of '\\N' values are 17958952\n"
     ]
    },
    {
     "data": {
      "text/plain": [
       "tconst                  0\n",
       "titleType               0\n",
       "primaryTitle            0\n",
       "originalTitle           0\n",
       "isAdult                 1\n",
       "startYear         1285857\n",
       "endYear           9458305\n",
       "runtimeMinutes    6780644\n",
       "genres             434145\n",
       "dtype: int64"
      ]
     },
     "execution_count": 207,
     "metadata": {},
     "output_type": "execute_result"
    }
   ],
   "source": [
    "# IDENTIFYING '\\N' VALUES\n",
    "print(\"\\nNumber of '\\\\N' values are\", (basics=='\\\\N').sum().sum())\n",
    "(basics=='\\\\N').sum()"
   ]
  },
  {
   "cell_type": "code",
   "execution_count": 208,
   "id": "2ccb1699",
   "metadata": {},
   "outputs": [
    {
     "name": "stdout",
     "output_type": "stream",
     "text": [
      "\n",
      "Now the number of '\\N' values are 0 \n",
      "And the number of 'np.NaN' values are 17958984 \n",
      "\n",
      "\\N VALUES\n",
      " --------------------------\n",
      "tconst            0\n",
      "titleType         0\n",
      "primaryTitle      0\n",
      "originalTitle     0\n",
      "isAdult           0\n",
      "startYear         0\n",
      "endYear           0\n",
      "runtimeMinutes    0\n",
      "genres            0\n",
      "dtype: int64 \n",
      "\n",
      "NaN VALUES\n",
      " --------------------------\n",
      "tconst                  0\n",
      "titleType               0\n",
      "primaryTitle           11\n",
      "originalTitle          11\n",
      "isAdult                 1\n",
      "startYear         1285857\n",
      "endYear           9458305\n",
      "runtimeMinutes    6780644\n",
      "genres             434155\n",
      "dtype: int64\n"
     ]
    }
   ],
   "source": [
    "# REPLACING '\\N' VALUES\n",
    "basics.replace({'\\\\N':np.nan}, inplace=True)\n",
    "print(\"\\nNow the number of '\\\\N' values are\", (basics=='\\\\N').sum().sum(), \"\\nAnd the number of 'np.NaN' values are\", basics.isna().sum().sum(),'\\n\\n\\\\N VALUES\\n',26*'-')\n",
    "print((basics=='\\\\N').sum(),'\\n\\nNaN VALUES\\n',26*'-')\n",
    "print(basics.isna().sum())"
   ]
  },
  {
   "cell_type": "markdown",
   "id": "a0e08e5b",
   "metadata": {},
   "source": [
    "<br><font size=3><b>2. Eliminate movies that are null for runtimeMinutes"
   ]
  },
  {
   "cell_type": "code",
   "execution_count": 272,
   "id": "e917f54f",
   "metadata": {},
   "outputs": [
    {
     "name": "stdout",
     "output_type": "stream",
     "text": [
      "Before dropping, 'null' value for movie runtime is 233642\n",
      "After  dropping, 'null' value for movie runtime is 0\n"
     ]
    }
   ],
   "source": [
    "# Dropping movies 'null' for Runtime\n",
    "print(f\"Before dropping, 'null' value for movie runtime is {(basics[(basics['titleType'] == 'movie') & (basics['runtimeMinutes'].isna())].index.shape[0])}\");y=basics['titleType'].value_counts()\n",
    "basics.drop(basics[(basics['titleType'] == 'movie') & (basics['runtimeMinutes'].isna())].index, inplace=True)\n",
    "print(f\"After  dropping, 'null' value for movie runtime is {basics[(basics['titleType'] == 'movie') & (basics['runtimeMinutes'].isna())].index.shape[0]}\")"
   ]
  },
  {
   "cell_type": "code",
   "execution_count": 273,
   "id": "4eb284fe",
   "metadata": {},
   "outputs": [
    {
     "name": "stdout",
     "output_type": "stream",
     "text": [
      "\n",
      "MOVIE BEFORE\n",
      "-----------------------\n",
      "tvEpisode       7238239\n",
      "short            910290\n",
      "movie            633590\n",
      "video            269782\n",
      "tvSeries         237487\n",
      "tvMovie          140149\n",
      "tvMiniSeries      46923\n",
      "tvSpecial         40262\n",
      "videoGame         33354\n",
      "tvShort            9905\n",
      "tvPilot               2\n",
      "Name: titleType, dtype: int64\n",
      "\n",
      "MOVIE AFTER\n",
      "-----------------------\n",
      "tvEpisode       7238239\n",
      "short            910290\n",
      "movie            399948\n",
      "video            269782\n",
      "tvSeries         237487\n",
      "tvMovie          140149\n",
      "tvMiniSeries      46923\n",
      "tvSpecial         40262\n",
      "videoGame         33354\n",
      "tvShort            9905\n",
      "tvPilot               2\n",
      "Name: titleType, dtype: int64\n"
     ]
    }
   ],
   "source": [
    "# Checking 'movie' value\n",
    "print(f\"\\nMOVIE BEFORE\\n{23*'-'}\\n{y}\\n\\nMOVIE AFTER\\n{23*'-'}\\n{basics['titleType'].value_counts()}\")"
   ]
  },
  {
   "cell_type": "code",
   "execution_count": null,
   "id": "37947f47",
   "metadata": {},
   "outputs": [],
   "source": []
  },
  {
   "cell_type": "code",
   "execution_count": null,
   "id": "bdf22d61",
   "metadata": {},
   "outputs": [],
   "source": []
  },
  {
   "cell_type": "code",
   "execution_count": null,
   "id": "43e35ec4",
   "metadata": {},
   "outputs": [],
   "source": []
  },
  {
   "cell_type": "code",
   "execution_count": null,
   "id": "ab9d39f8",
   "metadata": {},
   "outputs": [],
   "source": []
  },
  {
   "cell_type": "code",
   "execution_count": 205,
   "id": "9b7e0ada",
   "metadata": {},
   "outputs": [],
   "source": [
    "basics = pd.read_csv(url_basics, sep='\\t', low_memory=False)"
   ]
  },
  {
   "cell_type": "code",
   "execution_count": 213,
   "id": "cce7f068",
   "metadata": {},
   "outputs": [
    {
     "data": {
      "text/plain": [
       "(9559983, 9)"
      ]
     },
     "execution_count": 213,
     "metadata": {},
     "output_type": "execute_result"
    }
   ],
   "source": [
    "#data = basics.copy()\n",
    "data.shape"
   ]
  },
  {
   "cell_type": "code",
   "execution_count": 173,
   "id": "4c5b08b0",
   "metadata": {},
   "outputs": [
    {
     "data": {
      "text/plain": [
       "(9559983, 9)"
      ]
     },
     "execution_count": 173,
     "metadata": {},
     "output_type": "execute_result"
    }
   ],
   "source": [
    "basics = data.copy()\n",
    "basics.shape"
   ]
  },
  {
   "cell_type": "code",
   "execution_count": 212,
   "id": "e19b926c",
   "metadata": {},
   "outputs": [
    {
     "data": {
      "text/plain": [
       "(9559983, 9)"
      ]
     },
     "execution_count": 212,
     "metadata": {},
     "output_type": "execute_result"
    }
   ],
   "source": [
    "basics.shape"
   ]
  },
  {
   "cell_type": "code",
   "execution_count": null,
   "id": "0b731b9a",
   "metadata": {},
   "outputs": [],
   "source": []
  },
  {
   "cell_type": "code",
   "execution_count": null,
   "id": "04c23995",
   "metadata": {},
   "outputs": [],
   "source": []
  }
 ],
 "metadata": {
  "kernelspec": {
   "display_name": "Python (dojo-env)",
   "language": "python",
   "name": "dojo-env"
  },
  "language_info": {
   "codemirror_mode": {
    "name": "ipython",
    "version": 3
   },
   "file_extension": ".py",
   "mimetype": "text/x-python",
   "name": "python",
   "nbconvert_exporter": "python",
   "pygments_lexer": "ipython3",
   "version": "3.9.15"
  },
  "toc": {
   "base_numbering": 1,
   "nav_menu": {},
   "number_sections": false,
   "sideBar": true,
   "skip_h1_title": false,
   "title_cell": "Table of Contents",
   "title_sidebar": "Contents",
   "toc_cell": false,
   "toc_position": {},
   "toc_section_display": true,
   "toc_window_display": false
  }
 },
 "nbformat": 4,
 "nbformat_minor": 5
}
